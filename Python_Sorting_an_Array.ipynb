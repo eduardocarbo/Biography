{
  "nbformat": 4,
  "nbformat_minor": 0,
  "metadata": {
    "colab": {
      "provenance": [],
      "authorship_tag": "ABX9TyMCQyDmlbXibbxljasvK0xo",
      "include_colab_link": true
    },
    "kernelspec": {
      "name": "python3",
      "display_name": "Python 3"
    },
    "language_info": {
      "name": "python"
    }
  },
  "cells": [
    {
      "cell_type": "markdown",
      "metadata": {
        "id": "view-in-github",
        "colab_type": "text"
      },
      "source": [
        "<a href=\"https://colab.research.google.com/github/eduardocarbo/Biography/blob/main/Python_Sorting_an_Array.ipynb\" target=\"_parent\"><img src=\"https://colab.research.google.com/assets/colab-badge.svg\" alt=\"Open In Colab\"/></a>"
      ]
    },
    {
      "cell_type": "markdown",
      "source": [
        "The following algorithm allows us to organize an array in an easy way without spending so many resources:"
      ],
      "metadata": {
        "id": "j_XFiErJO2YZ"
      }
    },
    {
      "cell_type": "code",
      "execution_count": 18,
      "metadata": {
        "colab": {
          "base_uri": "https://localhost:8080/"
        },
        "id": "dmtMWvCAN7_2",
        "outputId": "32a48149-af55-494c-f903-5a2cb2a6c182"
      },
      "outputs": [
        {
          "output_type": "stream",
          "name": "stdout",
          "text": [
            "[1, 2, 13, 17, 25, 27, 45, 47, 89, 99, 100]\n"
          ]
        }
      ],
      "source": [
        "def order_array(arr):\n",
        "  n = len(arr)\n",
        "  for i in range(n):\n",
        "    for j in range(0, n-i-1):\n",
        "      if arr[j] > arr[j + 1]:\n",
        "        arr[j] , arr[j + 1] = arr[j + 1], arr[j]\n",
        "\n",
        "lista = [45, 1, 47, 89, 100, 27, 25, 2, 17, 13, 99]\n",
        "\n",
        "order_array(lista)\n",
        "\n",
        "print(lista)\n"
      ]
    },
    {
      "cell_type": "markdown",
      "source": [
        "# Explanation of the code:\n",
        "To do this we will create several stages:\n",
        "\n",
        "1.- The first thing it does in to compare the first 2 elements. If the first one is greater than the other, an exchange of positions is made.\n",
        "\n",
        "2.- In the next stage, one more space is run and the next pair of elements follows.\n",
        "\n",
        "3.- In the tihrd stage is to continue to the end, and the lement that remains at the end is the heaviest element of that iteration.\n",
        "\n",
        "4.- When that happens, it repeats the three dstages again but ignoring the last elements because in theory is the heaviest element and has already been sorted.\n",
        "\n",
        "\n",
        "\n"
      ],
      "metadata": {
        "id": "jOK0VY5ASKTH"
      }
    },
    {
      "cell_type": "markdown",
      "source": [
        "For this we are going to create a function called \"def\". This function will accept the arrangement that we are gonig to work on next called \"arr\":\n",
        "\n",
        "def array_order(arr):\n",
        "\n",
        "Now, to do the ordering of elements, we have  to do a for loop, also following the logic of the 3 steps mentioned above. We need to know many times we are going to iterate, for this we use the length of the array. Let´s iterate n times the length of my array.\n",
        "\n",
        "def order_array(arr):\n",
        "\n",
        "  .         n = len(arr)\n",
        "\n",
        "\n"
      ],
      "metadata": {
        "id": "KPjW8BELUV82"
      }
    },
    {
      "cell_type": "markdown",
      "source": [
        "Now we speacify the \"for\".\n",
        "\n",
        "for i in range(n):  , where n is the length of the array.\n",
        "\n",
        "i starts at 0 and increments.\n",
        "\n",
        "At this point we already have our our first 3 steps mentioned above, Now we are missing the fourth step.\n"
      ],
      "metadata": {
        "id": "WOzIj5kdWn0i"
      }
    },
    {
      "cell_type": "markdown",
      "source": [
        "The following \"for\" shortens the lsit to repeat steps 1, 2, and 3. Then we generate an exchange of variables as follows:\n",
        "\n"
      ],
      "metadata": {
        "id": "h_VO-S21fWDN"
      }
    },
    {
      "cell_type": "markdown",
      "source": [
        "for j in range(0, n-i-1):\n",
        "\n",
        "    if arr[j] > arr[j + 1]:\n",
        "\n",
        "      arr[j] , arr[j + 1] = arr[j + 1], arr[j]"
      ],
      "metadata": {
        "id": "CMG4-IH2iG43"
      }
    },
    {
      "cell_type": "markdown",
      "source": [
        "Finally we create the array to work with, and then we apply the funtion.\n",
        "\n",
        "\n",
        "lista = [45, 1, 47, 89, 100, 27, 25, 2, 17, 13, 99]\n",
        "\n",
        "order_array(lista)\n",
        "\n",
        "print(lista)"
      ],
      "metadata": {
        "id": "mSav4j8MimW-"
      }
    }
  ]
}