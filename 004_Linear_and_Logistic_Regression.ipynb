{
  "nbformat": 4,
  "nbformat_minor": 0,
  "metadata": {
    "colab": {
      "provenance": [],
      "authorship_tag": "ABX9TyMXf8L4IOG8CtronGCDOmI7",
      "include_colab_link": true
    },
    "kernelspec": {
      "name": "python3",
      "display_name": "Python 3"
    },
    "language_info": {
      "name": "python"
    }
  },
  "cells": [
    {
      "cell_type": "markdown",
      "metadata": {
        "id": "view-in-github",
        "colab_type": "text"
      },
      "source": [
        "<a href=\"https://colab.research.google.com/github/eduardocarbo/Biography/blob/main/004_Linear_and_Logistic_Regression.ipynb\" target=\"_parent\"><img src=\"https://colab.research.google.com/assets/colab-badge.svg\" alt=\"Open In Colab\"/></a>"
      ]
    },
    {
      "cell_type": "markdown",
      "source": [
        "## Linear regression\n",
        "\n",
        "- Implement a Python function that estimates the coefficients β of a multivariate linear regression model.\n",
        "- Use the implemented function to estimate the parameters (β) for the following training dataset:\n",
        "\n",
        "|row|X1|X2|y|\n",
        "|-----|-------|------|----|\n",
        "|1|0.1|2.2|5.4|\n",
        "|2|0.9|3.9|4.1|\n",
        "|3|2.1|6.1|2.9|\n",
        "|4|2.7|7.7|1.1|\n",
        "|5|4.2|10.3|0.3|\n",
        "\n",
        "- Implement a small code in Python that estimates the performance metrics studied in the lecture (i.e., RSS, RSE, R2, MSE, and RMSE) of the above multiple linear regression model.\n"
      ],
      "metadata": {
        "id": "vexKazK-sxF8"
      }
    },
    {
      "cell_type": "code",
      "execution_count": 1,
      "metadata": {
        "id": "UjRTyPoQsb3x"
      },
      "outputs": [],
      "source": [
        "import numpy as np"
      ]
    },
    {
      "cell_type": "code",
      "source": [
        "# implements part a) -> function to estimate MLR coeffcients (betas): beta = (Xt*X)^-1*Xt*y\n",
        "from numpy.linalg import inv  # inverse matrix function\n",
        "def mlr_coeff(X,y):\n",
        "    X = np.c_[np.ones(len(X)), X]  # append 1s column (beta0)\n",
        "    return inv((X.T) @ X) @ X.T @ y"
      ],
      "metadata": {
        "id": "zmVX65TLtTJY"
      },
      "execution_count": 2,
      "outputs": []
    },
    {
      "cell_type": "code",
      "source": [
        "Xtrain = np.array([[0.1, 2.2],\n",
        "                   [0.9, 3.9],\n",
        "                   [2.1, 6.1],\n",
        "                   [2.7, 7.7],\n",
        "                   [4.2, 10.3]])\n",
        "Xtrain"
      ],
      "metadata": {
        "colab": {
          "base_uri": "https://localhost:8080/"
        },
        "id": "xG7NGxWltiUp",
        "outputId": "86c7c8a3-1321-43c4-d494-a27312c10940"
      },
      "execution_count": 3,
      "outputs": [
        {
          "output_type": "execute_result",
          "data": {
            "text/plain": [
              "array([[ 0.1,  2.2],\n",
              "       [ 0.9,  3.9],\n",
              "       [ 2.1,  6.1],\n",
              "       [ 2.7,  7.7],\n",
              "       [ 4.2, 10.3]])"
            ]
          },
          "metadata": {},
          "execution_count": 3
        }
      ]
    },
    {
      "cell_type": "code",
      "source": [
        "ytrain = np.array([[5.4, 4.1, 2.9, 1.1, 0.3]]).T\n",
        "ytrain"
      ],
      "metadata": {
        "colab": {
          "base_uri": "https://localhost:8080/"
        },
        "id": "B2wHtPJRtmCy",
        "outputId": "b4f2bacd-54ff-4886-f0ab-225c15486568"
      },
      "execution_count": 4,
      "outputs": [
        {
          "output_type": "execute_result",
          "data": {
            "text/plain": [
              "array([[5.4],\n",
              "       [4.1],\n",
              "       [2.9],\n",
              "       [1.1],\n",
              "       [0.3]])"
            ]
          },
          "metadata": {},
          "execution_count": 4
        }
      ]
    },
    {
      "cell_type": "code",
      "source": [
        "Beta = mlr_coeff(Xtrain,ytrain)\n",
        "Beta"
      ],
      "metadata": {
        "colab": {
          "base_uri": "https://localhost:8080/"
        },
        "id": "7i0RewHVtrGX",
        "outputId": "f8318482-3d1b-43b9-d461-2cb09dc6e715"
      },
      "execution_count": 5,
      "outputs": [
        {
          "output_type": "execute_result",
          "data": {
            "text/plain": [
              "array([[10.92601381],\n",
              "       [ 4.10026583],\n",
              "       [-2.70969296]])"
            ]
          },
          "metadata": {},
          "execution_count": 5
        }
      ]
    },
    {
      "cell_type": "code",
      "source": [
        "def mlr_predict(BETA, Xnew):\n",
        "    Xnew = np.c_[np.ones(len(Xnew)), Xnew]\n",
        "    return Xnew @ BETA"
      ],
      "metadata": {
        "id": "ezDRlFT-txEJ"
      },
      "execution_count": 6,
      "outputs": []
    },
    {
      "cell_type": "code",
      "source": [
        "y_pred = mlr_predict(BETA=Beta, Xnew=Xtrain)\n",
        "y_pred"
      ],
      "metadata": {
        "colab": {
          "base_uri": "https://localhost:8080/"
        },
        "id": "eMLEu8AJt0Ic",
        "outputId": "e7fe1e50-62f1-4315-85d1-35844ff67940"
      },
      "execution_count": 7,
      "outputs": [
        {
          "output_type": "execute_result",
          "data": {
            "text/plain": [
              "array([[5.37471588],\n",
              "       [4.04845052],\n",
              "       [3.00744501],\n",
              "       [1.13209577],\n",
              "       [0.23729282]])"
            ]
          },
          "metadata": {},
          "execution_count": 7
        }
      ]
    },
    {
      "cell_type": "code",
      "source": [
        "def mlr_scores(y_true, y_pred):\n",
        "    err = y_true - y_pred\n",
        "    RSS = ( err.T @  err ).item(0) # RSS is still an array. converts to scalar with `item`\n",
        "    n = len(y_true)\n",
        "    RSE = np.sqrt(RSS/(n-2))\n",
        "    ybar = np.mean(y_true)\n",
        "    R2 = ( 1 - RSS / ( (y_true - ybar).T @ (y_true - ybar) ) ).item(0)\n",
        "    MSE = RSS/n\n",
        "    RMSE = np.sqrt(MSE)\n",
        "    return RSS, RSE, R2, MSE, RMSE"
      ],
      "metadata": {
        "id": "CTj4-SRluBST"
      },
      "execution_count": 8,
      "outputs": []
    },
    {
      "cell_type": "code",
      "source": [
        "RSS, RSE, R2, MSE, RMSE = mlr_scores(y_true=ytrain, y_pred=y_pred)\n",
        "print(\"RSS = \", RSS)\n",
        "print(\"RSE = \", RSE)\n",
        "print(\"R2 = \", R2)\n",
        "print(\"RMSE = \", RMSE)"
      ],
      "metadata": {
        "colab": {
          "base_uri": "https://localhost:8080/"
        },
        "id": "mVuzwyjPuJQh",
        "outputId": "cd871a52-5654-4b60-e621-d3d78d6d7b4f"
      },
      "execution_count": 9,
      "outputs": [
        {
          "output_type": "stream",
          "name": "stdout",
          "text": [
            "RSS =  0.019803393338210504\n",
            "RSE =  0.08124734526577981\n",
            "R2 =  0.9988742955128348\n",
            "RMSE =  0.06293392302758585\n"
          ]
        }
      ]
    }
  ]
}