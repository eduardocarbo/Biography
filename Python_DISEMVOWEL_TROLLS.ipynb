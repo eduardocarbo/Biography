{
  "nbformat": 4,
  "nbformat_minor": 0,
  "metadata": {
    "colab": {
      "provenance": [],
      "authorship_tag": "ABX9TyMrcnObW8rMP0n9lDjvREmJ",
      "include_colab_link": true
    },
    "kernelspec": {
      "name": "python3",
      "display_name": "Python 3"
    },
    "language_info": {
      "name": "python"
    }
  },
  "cells": [
    {
      "cell_type": "markdown",
      "metadata": {
        "id": "view-in-github",
        "colab_type": "text"
      },
      "source": [
        "<a href=\"https://colab.research.google.com/github/eduardocarbo/Biography/blob/main/Python_DISEMVOWEL_TROLLS.ipynb\" target=\"_parent\"><img src=\"https://colab.research.google.com/assets/colab-badge.svg\" alt=\"Open In Colab\"/></a>"
      ]
    },
    {
      "cell_type": "markdown",
      "source": [
        "# DISEMVOWEL TROLLS:\n",
        "________________________________________________________________________________\n",
        "\n",
        "Trolls are attacking your comment section!\n",
        "\n",
        "A common way to deal with this situation is to remove all of the vowels from the trolls' comments, neutralizing the threat.\n",
        "\n",
        "Your task is to write a function that takes a string and return a new string with all vowels removed.\n",
        "\n",
        "For example, the string \"This website is for losers LOL!\" would become \"Ths wbst s fr lsrs LL!\".\n",
        "\n",
        "Note: for this kata y isn't considered a vowel.\n",
        "--------------------------------------------------------------------------------"
      ],
      "metadata": {
        "id": "uSI7pvvl1eWU"
      }
    },
    {
      "cell_type": "code",
      "execution_count": 6,
      "metadata": {
        "colab": {
          "base_uri": "https://localhost:8080/",
          "height": 35
        },
        "id": "aXXl2L-x1cU8",
        "outputId": "d87f5d04-68e1-49b2-810f-9ee7a4043714"
      },
      "outputs": [
        {
          "output_type": "execute_result",
          "data": {
            "text/plain": [
              "'Ths wbst s fr lsrs LL!'"
            ],
            "application/vnd.google.colaboratory.intrinsic+json": {
              "type": "string"
            }
          },
          "metadata": {},
          "execution_count": 6
        }
      ],
      "source": [
        "def remove_vowels(text):\n",
        "  \"\"\"Removes all vowels from a string.\"\"\"\n",
        "  vowels = \"aeiouAEIOU\"\n",
        "  return \"\".join([c for c in text if c not in vowels])\n",
        "\n",
        "#Example usage\n",
        "text = \"This website is for losers LOL!\"\n",
        "without_vowels = remove_vowels(text)\n",
        "without_vowels ## Output: Ths wbst s fr lsrs LL!"
      ]
    },
    {
      "cell_type": "markdown",
      "source": [
        "El código anterior define una función llamada remove_vowels() que toma una cadena como entrada y devuelve una nueva cadena con todas las vocales eliminadas.\n",
        "\n",
        "La función comienza definiendo una variable llamada vowels que contiene una lista de todas las vocales en el alfabeto inglés. Luego, utiliza un bucle for para recorrer la cadena de entrada, carácter por carácter. Para cada carácter, la función comprueba si el carácter se encuentra en la lista de vocales. Si no se encuentra, la función añade el carácter a una nueva cadena vacía. Al final del bucle, la función devuelve la nueva cadena.\n",
        "\n",
        "Por ejemplo, si la función recibe la cadena \"This website is for losers LOL!\", el bucle for recorrerá la cadena carácter por carácter. Para cada carácter, la función comprobará si el carácter se encuentra en la lista de vocales. Los caracteres \"i\", \"e\", \"o\", \"o\", \"e\", \"u\" y \"o\" se encuentran en la lista de vocales, por lo que no se añadirán a la nueva cadena. Los caracteres restantes, \"T\", \"h\", \"i\", \"s\", \"w\", \"e\", \"b\", \"s\", \"i\", \"f\", \"o\", \"r\", \"l\", \"o\", \"s\", \"e\", \"L\", \"L\", se añadirán a la nueva cadena.\n",
        "\n",
        "Al final del bucle, la función devolverá la nueva cadena, que es \"Ths wbst s fr lsrs LL!\".\n",
        "\n",
        "Aquí hay una explicación más detallada de cada línea del código:\n",
        "\n",
        "Python\n",
        "def remove_vowels(text):\n",
        "Utiliza el código con precaución. Más información\n",
        "Esta línea define la función remove_vowels(). La función toma una cadena como entrada y devuelve una nueva cadena con todas las vocales eliminadas.\n",
        "\n",
        "Python\n",
        "  \"\"\"Removes all vowels from a string.\"\"\"\n",
        "Utiliza el código con precaución. Más información\n",
        "Esta línea proporciona una descripción de la función. Esta descripción se utilizará para generar documentación para la función.\n",
        "\n",
        "Python\n",
        "  vowels = \"aeiouAEIOU\"\n",
        "Utiliza el código con precaución. Más información\n",
        "Esta línea define una variable llamada vowels que contiene una lista de todas las vocales en el alfabeto inglés.\n",
        "\n",
        "Python\n",
        "  return \"\".join([c for c in text if c not in vowels])\n",
        "Utiliza el código con precaución. Más información\n",
        "Esta línea utiliza un bucle for para recorrer la cadena de entrada, carácter por carácter. Para cada carácter, la función comprueba si el carácter se encuentra en la lista de vocales. Si no se encuentra, la función añade el carácter a una nueva cadena vacía. Al final del bucle, la función devuelve la nueva cadena."
      ],
      "metadata": {
        "id": "wQEe4_g82OAD"
      }
    }
  ]
}